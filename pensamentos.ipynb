{
 "cells": [
  {
   "cell_type": "markdown",
   "metadata": {},
   "source": [
    "## Ideia\n",
    "\n",
    "Primeiro vou fazer meu grafo, depois vou fazer meus clusteres, depois vou gerar cenários de uso. \n",
    "\n",
    "Com os cenários de uso eu vou usa-los para treinar meu modelo e validá-lo \n",
    "Eu vou fazer embeddings com um bert para identificar contexto, eu posso fazer resumo de cada requerimento para alimentar contexto o que é parecido com a insdústria.\n",
    "\n",
    "Eu preciso fazer o gráfo dos requerimentos para eu conseguir fazer os clusteres, para eu poder fazer os cenários de uso.\n",
    "\n",
    "Quando eu tiver os cenários eu devo separalos em frases do tipo história de usuários e em seguida criar os requisitos, (para criar os requisitos acredito que o peso para o I Want deva ser maior, pois parece fazer mais sentido com o requisito em si)"
   ]
  },
  {
   "cell_type": "markdown",
   "metadata": {},
   "source": [
    "## O que eu poderia fazer\n",
    "\n",
    "Se eu tiver um modelo que faz histórias de usuários a partir de requisitos:     \n",
    "    str = f\"Como {um tal/ uma tal}, quero poder {fazer tal coisa}, para que {}\"\n",
    "    1. Identificar "
   ]
  },
  {
   "cell_type": "code",
   "execution_count": 1,
   "metadata": {},
   "outputs": [],
   "source": [
    "import pandas as pd \n",
    "import os\n",
    "df = pd.read_csv(os.path.join(\"data\",\"pure_req_user_stories.csv\"))\n"
   ]
  },
  {
   "cell_type": "code",
   "execution_count": null,
   "metadata": {},
   "outputs": [],
   "source": [
    "class Madeira:\n",
    "    def __init__(self, cor, espessura, dureza, flexibilidade):\n",
    "        self.cor = cor\n",
    "        self.espessura = espessura\n",
    "        self.dureza = dureza\n",
    "        self.flexibilidade = flexibilidade\n",
    "        self.atributo_novo = self.criar_novo_atributo()\n",
    "\n",
    "        def criar_novo_atributo(self):\n",
    "            return espessura + dureza"
   ]
  },
  {
   "cell_type": "code",
   "execution_count": 14,
   "metadata": {},
   "outputs": [
    {
     "name": "stdout",
     "output_type": "stream",
     "text": [
      "101800\n",
      "(12725, 8)\n",
      "101800\n"
     ]
    }
   ],
   "source": [
    "print(df.shape)"
   ]
  },
  {
   "cell_type": "code",
   "execution_count": 9,
   "metadata": {},
   "outputs": [
    {
     "name": "stdout",
     "output_type": "stream",
     "text": [
      "The solution should provide detailed context-sensitive help material for all the possible actions and scenarios on all user interfaces in the application.\n",
      "As a user of the application, I want to have access to detailed context-sensitive help material for all possible actions and scenarios on all user interfaces, so that I can quickly understand how to use the application effectively and resolve any issues that may arise.\n",
      "+========================+========================+\n",
      "The help should be accessible to the users both in the offline and online mode.\n",
      "As a user, I want to be able to access help resources both when I have an internet connection and when I don't, so that I can get assistance whenever I need it.\n",
      "+========================+========================+\n",
      "The solution should provide an interface for the user to log any defects or enhancement requests on the application and track thereafter.\n",
      "As a user of the application, I want to be able to log defects or enhancement requests and track their status so that I can easily report and monitor issues and improvements.\n",
      "+========================+========================+\n",
      "The solution should send alerts (e.g., email, SMS) to the user if the user chooses to whenever any action has been taken on the alert\n",
      "As a user, I want to receive customizable alerts (e.g., email, SMS) whenever any action has been taken on an alert I've set up, so that I can stay informed and up-to-date on the status of my alerts in real-time.\n",
      "+========================+========================+\n",
      "The solution should enable the user to track the submitted defect or enhancement request.\n",
      "As a user, I want to be able to track the status of my submitted defect or enhancement request so that I can stay informed about its progress and resolution.\n",
      "+========================+========================+\n",
      "The solution should enable the help-desk user to view the reports on the submitted defects or enhancement requests category- wise, status-wise, and age-wise.\n",
      "As a help-desk user, I want to view reports on submitted defects or enhancement requests categorized by type, status, and age, so that I can efficiently track and manage the requests and make informed decisions.\n",
      "+========================+========================+\n"
     ]
    }
   ],
   "source": [
    "count = 0\n",
    "for req in df[\"requirement\"]:\n",
    "    print(req)\n",
    "    us = df[\"user story llama-3-1-405b\"]\n",
    "    print(us[count])\n",
    "    print(\"+========================+========================+\")\n",
    "    count+=1\n",
    "    if count > 5:\n",
    "        break"
   ]
  }
 ],
 "metadata": {
  "kernelspec": {
   "display_name": "Python 3",
   "language": "python",
   "name": "python3"
  },
  "language_info": {
   "codemirror_mode": {
    "name": "ipython",
    "version": 3
   },
   "file_extension": ".py",
   "mimetype": "text/x-python",
   "name": "python",
   "nbconvert_exporter": "python",
   "pygments_lexer": "ipython3",
   "version": "3.12.3"
  }
 },
 "nbformat": 4,
 "nbformat_minor": 2
}
