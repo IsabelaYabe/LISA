{
 "cells": [
  {
   "cell_type": "markdown",
   "id": "1510b010",
   "metadata": {},
   "source": [
    "# To do\n",
    "Fazer embedding do meu dataset\n",
    "\n",
    "Escolher uma medida de similaridade:\n",
    "    - Similariedade entre os metadados\n",
    "    - Similariedade entre os requisitos\n",
    "    - Similariedade entre as reasons do user story\n",
    "        - Com os maiores graus de similariedade comparar os type_of_user e os goals "
   ]
  },
  {
   "cell_type": "markdown",
   "id": "76e6d450",
   "metadata": {},
   "source": [
    "# RAG\n",
    "Chunkar os documentos nas sessões, depois fazer a indexação, ou seja, o embedding."
   ]
  },
  {
   "cell_type": "code",
   "execution_count": null,
   "id": "60ddb2fa",
   "metadata": {
    "vscode": {
     "languageId": "plaintext"
    }
   },
   "outputs": [],
   "source": []
  }
 ],
 "metadata": {
  "language_info": {
   "name": "python"
  }
 },
 "nbformat": 4,
 "nbformat_minor": 5
}
