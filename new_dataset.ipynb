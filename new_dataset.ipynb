{
 "cells": [
  {
   "cell_type": "code",
   "execution_count": 3,
   "metadata": {},
   "outputs": [],
   "source": [
    "import pandas as pd\n",
    "import os\n",
    "import spacy\n",
    "import re"
   ]
  },
  {
   "cell_type": "code",
   "execution_count": 9,
   "metadata": {},
   "outputs": [],
   "source": [
    "pure_req_user_stories_path = os.path.join(\"data\", \"pure_req_user_stories.csv\")\n",
    "pure_req_us_df = pd.read_csv(pure_req_user_stories_path)\n"
   ]
  },
  {
   "cell_type": "code",
   "execution_count": 10,
   "metadata": {},
   "outputs": [
    {
     "data": {
      "text/plain": [
       "Index(['filename', 'keys', 'requirement', 'user story llama-4-maverick',\n",
       "       'user story llama-3-3-70b'],\n",
       "      dtype='object')"
      ]
     },
     "execution_count": 10,
     "metadata": {},
     "output_type": "execute_result"
    }
   ],
   "source": [
    "pure_req_us_df.rename(columns={\"databricks-llama-4-maverick\": \"user story llama-4-maverick\", \"databricks-meta-llama-3-3-70b-instruct\": \"user story llama-3-3-70b\"}, inplace=True)\n",
    "pure_req_us_df.columns"
   ]
  },
  {
   "cell_type": "code",
   "execution_count": 17,
   "metadata": {},
   "outputs": [
    {
     "name": "stdout",
     "output_type": "stream",
     "text": [
      "História 1\n",
      "- Tipo de usuário: user of the application\n",
      "- Objetivo: to access context-sensitive help material relevant to the specific action or scenario I am currently engaged with on any user interface,\n",
      "- Razão: I can quickly understand how to effectively use the application's features and resolve any issues or confusion without having to search through extensive documentation\n",
      "\n",
      "História 2\n",
      "- Tipo de usuário: user\n",
      "- Objetivo: to be able to access the help feature regardless of whether I am connected to the internet or not,\n",
      "- Razão: I can get assistance whenever I need it, whether I'm online or offline\n",
      "\n"
     ]
    }
   ],
   "source": [
    "def extract_user_story_parts(text):\n",
    "    pattern = r\"As a (.*?), I want (.*?) so that (.*?)(?:\\.|$)\"\n",
    "    match = re.findall(pattern, text, re.IGNORECASE)[0]\n",
    "    result = {\n",
    "            \"type_of_user\": match[0],\n",
    "            \"goal\": match[1],\n",
    "            \"reason\": match[2]\n",
    "        }\n",
    "    return result\n",
    "\n",
    "text_1 = \"\"\"\n",
    "As a user of the application, I want to access context-sensitive help material relevant to the specific action or scenario I am currently engaged with on any user interface, so that I can quickly understand how to effectively use the application's features and resolve any issues or confusion without having to search through extensive documentation.\n",
    "\"\"\"\n",
    "text_2 = \"\"\"As a user, I want to be able to access the help feature regardless of whether I am connected to the internet or not, so that I can get assistance whenever I need it, whether I'm online or offline.\n",
    "\"\"\"\n",
    "result_1 = extract_user_story_parts(text_1)\n",
    "result_2 = extract_user_story_parts(text_2)\n",
    "results = [result_1, result_2]\n",
    "for i, result in enumerate(results, 1):\n",
    "    print(f\"História {i}\")\n",
    "    print(f\"- Tipo de usuário: {result['type_of_user']}\")\n",
    "    print(f\"- Objetivo: {result['goal']}\")\n",
    "    print(f\"- Razão: {result['reason']}\")\n",
    "    print()\n",
    "\n"
   ]
  }
 ],
 "metadata": {
  "kernelspec": {
   "display_name": "Python 3",
   "language": "python",
   "name": "python3"
  },
  "language_info": {
   "codemirror_mode": {
    "name": "ipython",
    "version": 3
   },
   "file_extension": ".py",
   "mimetype": "text/x-python",
   "name": "python",
   "nbconvert_exporter": "python",
   "pygments_lexer": "ipython3",
   "version": "3.12.3"
  }
 },
 "nbformat": 4,
 "nbformat_minor": 2
}
