{
 "cells": [
  {
   "cell_type": "code",
   "execution_count": 52,
   "metadata": {},
   "outputs": [],
   "source": [
    "import pandas as pd\n",
    "import os\n",
    "import spacy\n",
    "import re\n",
    "import time"
   ]
  },
  {
   "cell_type": "code",
   "execution_count": 67,
   "metadata": {},
   "outputs": [
    {
     "name": "stdout",
     "output_type": "stream",
     "text": [
      "1744604313.0761209\n",
      "832040\n",
      "1744604313.2920635\n",
      "832040\n",
      "1744604313.5372677\n",
      "832040\n",
      "1744604313.7463121\n"
     ]
    }
   ],
   "source": [
    "def fib(n):\n",
    "    if n <= 1:\n",
    "        return n\n",
    "    else:\n",
    "        return fib(n-1) + fib(n-2)\n",
    "\n",
    "print(time.time())\n",
    "print(fib(30))\n",
    "print(time.time())\n",
    "print(fib(30))\n",
    "print(time.time())\n",
    "print(fib(30))\n",
    "print(time.time())\n"
   ]
  },
  {
   "cell_type": "code",
   "execution_count": 74,
   "metadata": {},
   "outputs": [
    {
     "name": "stdout",
     "output_type": "stream",
     "text": [
      "Computing fib(5)\n",
      "Computing fib(4)\n",
      "Computing fib(3)\n",
      "Computing fib(2)\n",
      "Computing fib(1)\n",
      "Computing fib(0)\n",
      "memo[2] = 1\n",
      "Computing fib(1)\n",
      "memo[3] = 2\n",
      "Returning memo[2] = 1\n",
      "memo[4] = 3\n",
      "Returning memo[3] = 2\n",
      "memo[5] = 5\n"
     ]
    },
    {
     "data": {
      "text/plain": [
       "5"
      ]
     },
     "execution_count": 74,
     "metadata": {},
     "output_type": "execute_result"
    }
   ],
   "source": [
    "def fib(n, memo):\n",
    "    if n in memo:\n",
    "        print(f\"Returning memo[{n}] = {memo[n]}\")\n",
    "        return memo[n]\n",
    "    \n",
    "    print(f\"Computing fib({n})\")\n",
    "    if n <= 1:\n",
    "        return n\n",
    "\n",
    "    memo[n] = fib(n-1, memo) + fib(n-2, memo)\n",
    "    print(f\"memo[{n}] = {memo[n]}\")\n",
    "    return memo[n]\n",
    "\n",
    "dici = {}\n",
    "fib(5, dici)"
   ]
  },
  {
   "cell_type": "code",
   "execution_count": 78,
   "metadata": {},
   "outputs": [
    {
     "name": "stdout",
     "output_type": "stream",
     "text": [
      "1744605132.2405312\n",
      "1548008755920\n",
      "1744605132.2405312\n",
      "1548008755920\n",
      "1744605132.2405312\n",
      "1548008755920\n",
      "1744605132.2415345\n"
     ]
    }
   ],
   "source": [
    "\n",
    "def fib(n, memo):\n",
    "    if n in memo:\n",
    "        return memo [n]\n",
    "    \n",
    "    if n <= 1:\n",
    "        return n\n",
    "    \n",
    "    memo[n] = fib(n-1, memo) + fib(n-2, memo)\n",
    "    return memo[n] \n",
    "meio = {}\n",
    "print(time.time())\n",
    "print(fib(60, meio))\n",
    "print(time.time())\n",
    "print(fib(60, meio))\n",
    "print(time.time())\n",
    "print(fib(60, meio))\n",
    "print(time.time())"
   ]
  },
  {
   "cell_type": "code",
   "execution_count": 2,
   "metadata": {},
   "outputs": [],
   "source": [
    "pure_req_user_stories_path = os.path.join(\"data\", \"pure_req_user_stories.csv\")\n",
    "pure_req_us_df = pd.read_csv(pure_req_user_stories_path)\n"
   ]
  },
  {
   "cell_type": "code",
   "execution_count": 3,
   "metadata": {},
   "outputs": [
    {
     "data": {
      "text/plain": [
       "Index(['filename', 'keys', 'requirement', 'user story llama-4-maverick',\n",
       "       'user story llama-3-3-70b'],\n",
       "      dtype='object')"
      ]
     },
     "execution_count": 3,
     "metadata": {},
     "output_type": "execute_result"
    }
   ],
   "source": [
    "pure_req_us_df.rename(columns={\"databricks-llama-4-maverick\": \"user story llama-4-maverick\", \"databricks-meta-llama-3-3-70b-instruct\": \"user story llama-3-3-70b\"}, inplace=True)\n",
    "pure_req_us_df.columns"
   ]
  },
  {
   "cell_type": "code",
   "execution_count": 4,
   "metadata": {},
   "outputs": [
    {
     "name": "stdout",
     "output_type": "stream",
     "text": [
      "a: 1287928066048\n",
      "b: 1287928066048\n"
     ]
    }
   ],
   "source": [
    "a = [1, 2, 3]\n",
    "b = a\n",
    "\n",
    "print(f\"a: {id(a)}\")\n",
    "print(f\"b: {id(b)}\")\n",
    "\n",
    "b.extend([4,5,6])"
   ]
  },
  {
   "cell_type": "code",
   "execution_count": 5,
   "metadata": {},
   "outputs": [
    {
     "name": "stdout",
     "output_type": "stream",
     "text": [
      "a: 10\n",
      "b: 10\n",
      "Novo texto\n",
      "a: 20\n",
      "b: 10\n"
     ]
    }
   ],
   "source": [
    "a = 10 # alocação 1\n",
    "b = a #  b fica com alocação 1, O B é uma referencia para a, a e b compartilham mesmo espaço em memória\n",
    "print(f\"a: {a}\")\n",
    "print(f\"b: {b}\")\n",
    "a = 20 # Agora a possui uma nova alocação na memoria  alocação de a é 2 \n",
    "print(\"Novo texto\")\n",
    "print(f\"a: {a}\")\n",
    "print(f\"b: {b}\")"
   ]
  },
  {
   "cell_type": "code",
   "execution_count": 6,
   "metadata": {},
   "outputs": [
    {
     "name": "stdout",
     "output_type": "stream",
     "text": [
      "0\n",
      "1\n",
      "2\n",
      "3\n",
      "4\n",
      "5\n",
      "6\n",
      "7\n",
      "8\n",
      "9\n"
     ]
    }
   ],
   "source": [
    "count = 0 # Count é alocado em 1\n",
    "while count < 10: # no count alocado em 2  \n",
    "    print(count) # printa o count alocado em 2\n",
    "    count += 1 # count = count + 1 # reinvoca a variavel count alocada em 2 e ela recebe o valor 1\n",
    "\n"
   ]
  },
  {
   "cell_type": "code",
   "execution_count": 84,
   "metadata": {},
   "outputs": [
    {
     "name": "stdout",
     "output_type": "stream",
     "text": [
      "0\n",
      "1\n",
      "2\n",
      "3\n",
      "4\n",
      "5\n",
      "6\n",
      "7\n",
      "8\n",
      "9\n",
      "[0, 1, 2, 3, 4, 5, 6, 7, 8, 9]\n"
     ]
    }
   ],
   "source": [
    "def meu_range(inicio, fim):\n",
    "    while inicio < fim:\n",
    "        print(inicio)\n",
    "        yield inicio\n",
    "        inicio += 1\n",
    "\n",
    "print(list(meu_range(0,10)))"
   ]
  },
  {
   "cell_type": "code",
   "execution_count": 7,
   "metadata": {},
   "outputs": [],
   "source": [
    "import copy\n",
    "\n",
    "class ABC:\n",
    "    def __init__(self, Bernardo):\n",
    "        self._A = Bernardo\n",
    "        self._B = [Bernardo, Bernardo]\n",
    "        self._C = (Bernardo, Bernardo)\n",
    "\n",
    "    @property\n",
    "    def A(self):\n",
    "        return self._A\n",
    "\n",
    "    @A.setter\n",
    "    def A(self, value):\n",
    "        self._A = value\n",
    "\n",
    "    @property\n",
    "    def B(self):\n",
    "        return self._B\n",
    "\n",
    "    @B.setter\n",
    "    def B(self, value):\n",
    "        self._B = value\n",
    "\n",
    "    @property\n",
    "    def C(self):\n",
    "        return self._C\n",
    "\n",
    "    @C.setter\n",
    "    def C(self, value):  \n",
    "        self._C = value\n"
   ]
  },
  {
   "cell_type": "code",
   "execution_count": 8,
   "metadata": {},
   "outputs": [
    {
     "name": "stdout",
     "output_type": "stream",
     "text": [
      "a: <__main__.ABC object at 0x0000012BDE9D38F0>, 1287930067184, [2, 3], [[2, 3], [2, 3]], ([2, 3], [2, 3])\n",
      "b: <__main__.ABC object at 0x0000012BDE9D38F0>, 1287930067184, [2, 3], [[2, 3], [2, 3]], ([2, 3], [2, 3])\n",
      "b_copy: <__main__.ABC object at 0x0000012BDF6402C0>, 1287943094976, [2, 3], [[2, 3], [2, 3]], ([2, 3], [2, 3])\n",
      "b_deepcopy: <__main__.ABC object at 0x0000012BDF640C80>, 1287943097472, [2, 3], [[2, 3], [2, 3]], ([2, 3], [2, 3])\n"
     ]
    },
    {
     "ename": "NameError",
     "evalue": "name 'b_' is not defined",
     "output_type": "error",
     "traceback": [
      "\u001b[1;31m---------------------------------------------------------------------------\u001b[0m",
      "\u001b[1;31mNameError\u001b[0m                                 Traceback (most recent call last)",
      "Cell \u001b[1;32mIn[8], line 9\u001b[0m\n\u001b[0;32m      7\u001b[0m b_deepcopy \u001b[38;5;241m=\u001b[39m copy\u001b[38;5;241m.\u001b[39mdeepcopy(b)\n\u001b[0;32m      8\u001b[0m \u001b[38;5;28mprint\u001b[39m(\u001b[38;5;124mf\u001b[39m\u001b[38;5;124m\"\u001b[39m\u001b[38;5;124mb_deepcopy: \u001b[39m\u001b[38;5;132;01m{\u001b[39;00mb_deepcopy\u001b[38;5;132;01m}\u001b[39;00m\u001b[38;5;124m, \u001b[39m\u001b[38;5;132;01m{\u001b[39;00m\u001b[38;5;28mid\u001b[39m(b_deepcopy)\u001b[38;5;132;01m}\u001b[39;00m\u001b[38;5;124m, \u001b[39m\u001b[38;5;132;01m{\u001b[39;00mb_deepcopy\u001b[38;5;241m.\u001b[39m_A\u001b[38;5;132;01m}\u001b[39;00m\u001b[38;5;124m, \u001b[39m\u001b[38;5;132;01m{\u001b[39;00mb_deepcopy\u001b[38;5;241m.\u001b[39m_B\u001b[38;5;132;01m}\u001b[39;00m\u001b[38;5;124m, \u001b[39m\u001b[38;5;132;01m{\u001b[39;00mb_deepcopy\u001b[38;5;241m.\u001b[39m_C\u001b[38;5;132;01m}\u001b[39;00m\u001b[38;5;124m\"\u001b[39m)\n\u001b[1;32m----> 9\u001b[0m \u001b[43mb_\u001b[49m\u001b[38;5;241m.\u001b[39mA \n\u001b[0;32m     11\u001b[0m \u001b[38;5;28mprint\u001b[39m(\u001b[38;5;124mf\u001b[39m\u001b[38;5;124m\"\u001b[39m\u001b[38;5;124ma: \u001b[39m\u001b[38;5;132;01m{\u001b[39;00ma\u001b[38;5;132;01m}\u001b[39;00m\u001b[38;5;124m, \u001b[39m\u001b[38;5;132;01m{\u001b[39;00m\u001b[38;5;28mid\u001b[39m(a)\u001b[38;5;132;01m}\u001b[39;00m\u001b[38;5;124m, \u001b[39m\u001b[38;5;132;01m{\u001b[39;00ma\u001b[38;5;241m.\u001b[39m_A\u001b[38;5;132;01m}\u001b[39;00m\u001b[38;5;124m, \u001b[39m\u001b[38;5;132;01m{\u001b[39;00ma\u001b[38;5;241m.\u001b[39m_B\u001b[38;5;132;01m}\u001b[39;00m\u001b[38;5;124m, \u001b[39m\u001b[38;5;132;01m{\u001b[39;00ma\u001b[38;5;241m.\u001b[39m_C\u001b[38;5;132;01m}\u001b[39;00m\u001b[38;5;124m\"\u001b[39m)\n\u001b[0;32m     12\u001b[0m \u001b[38;5;28mprint\u001b[39m(\u001b[38;5;124mf\u001b[39m\u001b[38;5;124m\"\u001b[39m\u001b[38;5;124mb: \u001b[39m\u001b[38;5;132;01m{\u001b[39;00mb\u001b[38;5;132;01m}\u001b[39;00m\u001b[38;5;124m, \u001b[39m\u001b[38;5;132;01m{\u001b[39;00m\u001b[38;5;28mid\u001b[39m(b)\u001b[38;5;132;01m}\u001b[39;00m\u001b[38;5;124m, \u001b[39m\u001b[38;5;132;01m{\u001b[39;00mb\u001b[38;5;241m.\u001b[39m_A\u001b[38;5;132;01m}\u001b[39;00m\u001b[38;5;124m, \u001b[39m\u001b[38;5;132;01m{\u001b[39;00mb\u001b[38;5;241m.\u001b[39m_B\u001b[38;5;132;01m}\u001b[39;00m\u001b[38;5;124m, \u001b[39m\u001b[38;5;132;01m{\u001b[39;00mb\u001b[38;5;241m.\u001b[39m_C\u001b[38;5;132;01m}\u001b[39;00m\u001b[38;5;124m\"\u001b[39m)\n",
      "\u001b[1;31mNameError\u001b[0m: name 'b_' is not defined"
     ]
    }
   ],
   "source": [
    "a = ABC([2,3])\n",
    "print(f\"a: {a}, {id(a)}, {a._A}, {a._B}, {a._C}\")\n",
    "b = a\n",
    "print(f\"b: {b}, {id(b)}, {b._A}, {b._B}, {b._C}\")\n",
    "b_copy = copy.copy(b)\n",
    "print(f\"b_copy: {b_copy}, {id(b_copy)}, {b_copy._A}, {b_copy._B}, {b_copy._C}\")\n",
    "b_deepcopy = copy.deepcopy(b)\n",
    "print(f\"b_deepcopy: {b_deepcopy}, {id(b_deepcopy)}, {b_deepcopy._A}, {b_deepcopy._B}, {b_deepcopy._C}\")\n",
    "b_.A \n",
    "\n",
    "print(f\"a: {a}, {id(a)}, {a._A}, {a._B}, {a._C}\")\n",
    "print(f\"b: {b}, {id(b)}, {b._A}, {b._B}, {b._C}\")\n",
    "print(f\"b_copy: {b_copy}, {id(b_copy)}, {b_copy._A}, {b_copy._B}, {b_copy._C}\")\n",
    "print(f\"b_deepcopy: {b_deepcopy}, {id(b_deepcopy)}, {b_deepcopy._A}, {b_deepcopy._B}, {b_deepcopy._C}\")"
   ]
  },
  {
   "cell_type": "code",
   "execution_count": 60,
   "metadata": {},
   "outputs": [
    {
     "name": "stdout",
     "output_type": "stream",
     "text": [
      "a: <__main__.ABC object at 0x000001B9787247D0>, [1, [2, 3]], [[1, [2, 3]], [1, [2, 3]]], ([1, [2, 3]], [1, [2, 3]])\n",
      "b: <__main__.ABC object at 0x000001B9787247D0>, [1, [2, 3]], [[1, [2, 3]], [1, [2, 3]]], ([1, [2, 3]], [1, [2, 3]])\n",
      "b_copy: <__main__.ABC object at 0x000001B978724710>, [1, [2, 3]], [[1, [2, 3]], [1, [2, 3]]], ([1, [2, 3]], [1, [2, 3]])\n",
      "b_deepcopy <__main__.ABC object at 0x000001B978724E00>, [1, [2, 3]], [[1, [2, 3]], [1, [2, 3]]], ([1, [2, 3]], [1, [2, 3]])\n",
      "a: <__main__.ABC object at 0x000001B9787247D0>, [1, ['oi', 3]], [[1, ['oi', 3]], [1, ['oi', 3]]], ([1, ['oi', 3]], [1, ['oi', 3]])\n",
      "b: <__main__.ABC object at 0x000001B9787247D0>, [1, ['oi', 3]], [[1, ['oi', 3]], [1, ['oi', 3]]], ([1, ['oi', 3]], [1, ['oi', 3]])\n",
      "b_copy: <__main__.ABC object at 0x000001B978724710>, [1, ['oi', 3]], [[1, ['oi', 3]], [1, ['oi', 3]]], ([1, ['oi', 3]], [1, ['oi', 3]])\n",
      "b_deepcopy: <__main__.ABC object at 0x000001B978724E00>, [1, [2, 3]], [[1, [2, 3]], [1, [2, 3]]], ([1, [2, 3]], [1, [2, 3]])\n"
     ]
    }
   ],
   "source": [
    "a = ABC([1, [2,3]])\n",
    "print(f\"a: {a}, {a.A}, {a.B}, {a.C}\")\n",
    "b = a\n",
    "print(f\"b: {b}, {b.A}, {b.B}, {b.C}\")\n",
    "b_copy = copy.copy(b)\n",
    "print(f\"b_copy: {b_copy}, {b_copy.A}, {b_copy.B}, {b_copy.C}\")\n",
    "b_deepcopy = copy.deepcopy(b)\n",
    "print(f\"b_deepcopy {b_deepcopy}, {b_deepcopy.A}, {b_deepcopy.B}, {b_deepcopy.C}\")\n",
    "a.A[1][0] = \"oi\" \n",
    "\n",
    "\n",
    "print(f\"a: {a}, {a.A}, {a.B}, {a.C}\")\n",
    "print(f\"b: {b}, {b.A}, {b.B}, {b.C}\")\n",
    "print(f\"b_copy: {b_copy}, {b_copy.A}, {b_copy.B}, {b_copy.C}\")\n",
    "print(f\"b_deepcopy: {b_deepcopy}, {b_deepcopy.A}, {b_deepcopy.B}, {b_deepcopy.C}\")\n"
   ]
  },
  {
   "cell_type": "code",
   "execution_count": 70,
   "metadata": {},
   "outputs": [
    {
     "name": "stdout",
     "output_type": "stream",
     "text": [
      "ABC(A='banana', B=['banana', 'banana'], C=('banana', 'banana'))\n"
     ]
    }
   ],
   "source": [
    "class ABC:\n",
    "    def __init__(self, A):\n",
    "        self._A = A\n",
    "        self._B = [A, A]\n",
    "        self._C = (A, A)\n",
    "\n",
    "    def __repr__(self):\n",
    "        return f\"ABC(A={self._A!r}, B={self._B!r}, C={self._C!r})\"\n",
    "\n",
    "obj = ABC(\"banana\")\n",
    "print(obj)\n"
   ]
  },
  {
   "cell_type": "code",
   "execution_count": 63,
   "metadata": {},
   "outputs": [
    {
     "name": "stdout",
     "output_type": "stream",
     "text": [
      "Isabela, 25 anos\n"
     ]
    }
   ],
   "source": [
    "class Pessoa:\n",
    "    def __init__(self, nome, idade):\n",
    "        self.nome = nome\n",
    "        self.idade = idade\n",
    "\n",
    "    def __str__(self):\n",
    "        return f\"{self.nome}, {self.idade} anos\"\n",
    "p = Pessoa(\"Isabela\", 25)\n",
    "print(p)\n"
   ]
  },
  {
   "cell_type": "code",
   "execution_count": 81,
   "metadata": {},
   "outputs": [
    {
     "name": "stdout",
     "output_type": "stream",
     "text": [
      "str(p) (1, 2) 1896101343568\n",
      "p (1, 2) 1896101333952\n",
      "p_copy (1, 2) 1896101341408\n",
      "str(p) (1, 2) 1896101343856\n",
      "p (1, 2) 1896101333952\n",
      "p_copy (1, 2) 1896101341408\n"
     ]
    }
   ],
   "source": [
    "import copy\n",
    "class Ponto:\n",
    "    def __init__(self, x, y):\n",
    "        self.x = x\n",
    "        self.y = y\n",
    "\n",
    "    def __repr__(self):\n",
    "        return f\"Ponto(x={self.x!r}, y={self.y!r})\"\n",
    "    \n",
    "    def __str__(self):\n",
    "        return f\"({self.x}, {self.y})\"\n",
    "    \n",
    "p = Ponto(1,2)\n",
    "print(\"str(p)\", str(p), id(str(p)))\n",
    "p_copy = str(p)\n",
    "print(\"p\", p, id(p))\n",
    "print(\"p_copy\", p_copy, id(p_copy))\n",
    "print(\"str(p)\", str(p), id(str(p)))\n",
    "print(\"p\", p, id(p))\n",
    "print(\"p_copy\", p_copy, id(p_copy))\n",
    "# quando eu printo o str(p), ele cria um novo objeto? ele não existe antes de ser criado e sempre que é printado se recria?\n",
    "# o elemento str é imutável, logo sempre que ele é chamado ele é recriado"
   ]
  },
  {
   "cell_type": "code",
   "execution_count": 11,
   "metadata": {},
   "outputs": [
    {
     "name": "stdout",
     "output_type": "stream",
     "text": [
      "140717978294712\n"
     ]
    }
   ],
   "source": [
    "carros = 1\n",
    "print(id(carros))"
   ]
  },
  {
   "cell_type": "code",
   "execution_count": 31,
   "metadata": {},
   "outputs": [
    {
     "name": "stdout",
     "output_type": "stream",
     "text": [
      "True\n",
      "<class 'list'>\n",
      "1287951447936\n",
      "1287951440320\n",
      "1287951447936\n",
      "As listas possuem mesmos valores\n",
      "As listas não possuem mesmos ids\n"
     ]
    }
   ],
   "source": [
    "carros = [\"gol\"]\n",
    "carross = \"gol\"\n",
    "print(isinstance(carros, list))\n",
    "print(type(carros))\n",
    "print(id(carros))\n",
    "print(id([\"gol\"]))\n",
    "carros.append(\"golf\")\n",
    "print(id(carros))\n",
    "if [\"gol\"] == [\"gol\"]:\n",
    "    print(\"As listas possuem mesmos valores\")\n",
    "if id([\"gol\"]) == id([\"gol\"]):\n",
    "    print(\"As listas não possuem mesmos ids\")\n",
    "\n",
    "# Porque nos prints print(id(carros), print(id((\"gol\",))) temos ids diferentes?  \n",
    "\n",
    "# E porque quando é str os ids são iguais?"
   ]
  },
  {
   "cell_type": "code",
   "execution_count": 28,
   "metadata": {},
   "outputs": [
    {
     "name": "stdout",
     "output_type": "stream",
     "text": [
      "True\n",
      "<class 'tuple'>\n",
      "1287946075872\n",
      "1287943099808\n",
      "As tuplas possuem mesmos valores\n",
      "As tuplas não possuem mesmos ids\n",
      "False\n",
      "<class 'str'>\n",
      "1287945966464\n",
      "1287945966464\n"
     ]
    }
   ],
   "source": [
    "carros = (\"gol\",)\n",
    "carross = \"gol\"\n",
    "print(isinstance(carros, tuple))\n",
    "print(type(carros))\n",
    "print(id(carros))\n",
    "print(id((\"gol\",)))\n",
    "\n",
    "if (\"gol\",) == (\"gol\",):\n",
    "    print(\"As tuplas possuem mesmos valores\")\n",
    "if id((\"gol\",)) == id((\"gol\",)):\n",
    "    print(\"As tuplas não possuem mesmos ids\")\n",
    "print(isinstance(carross, tuple))\n",
    "print(type(carross))\n",
    "print(id(carross))\n",
    "print(id(\"gol\"))\n",
    "# Porque nos prints print(id(carros), print(id((\"gol\",))) temos ids diferentes?  \n",
    "\n",
    "# E porque quando é str os ids são iguais?"
   ]
  },
  {
   "cell_type": "code",
   "execution_count": 49,
   "metadata": {},
   "outputs": [
    {
     "name": "stdout",
     "output_type": "stream",
     "text": [
      "True\n",
      "True\n",
      "False\n",
      "140717978297880\n",
      "140717978297880\n",
      "100\n",
      "100\n",
      "257\n",
      "257\n",
      "1287950444016\n",
      "1287950448400\n",
      "False\n"
     ]
    }
   ],
   "source": [
    "a = \"gol\"\n",
    "b = \"gol\"\n",
    "print(a is b)\n",
    "\n",
    "x = 100\n",
    "y = 100\n",
    "print(x is y) \n",
    "\n",
    "z = 999\n",
    "w = 999\n",
    "\n",
    "print(z is w) \n",
    "\n",
    "i = 100\n",
    "j = 100\n",
    "print(id(i))\n",
    "print(id(j))\n",
    "print(repr(i))\n",
    "print(repr(j))\n",
    "while (i is j):\n",
    "    i += 1\n",
    "    j += 1\n",
    "print(i)\n",
    "print(j)\n",
    "print(id(i))\n",
    "print(id(j))\n",
    "m = 1000\n",
    "n = 1000\n",
    "print(m is n)"
   ]
  },
  {
   "cell_type": "code",
   "execution_count": 22,
   "metadata": {},
   "outputs": [
    {
     "name": "stdout",
     "output_type": "stream",
     "text": [
      "gol\n"
     ]
    },
    {
     "ename": "TypeError",
     "evalue": "'tuple' object does not support item assignment",
     "output_type": "error",
     "traceback": [
      "\u001b[1;31m---------------------------------------------------------------------------\u001b[0m",
      "\u001b[1;31mTypeError\u001b[0m                                 Traceback (most recent call last)",
      "Cell \u001b[1;32mIn[22], line 3\u001b[0m\n\u001b[0;32m      1\u001b[0m carros \u001b[38;5;241m=\u001b[39m (\u001b[38;5;124m\"\u001b[39m\u001b[38;5;124mgol\u001b[39m\u001b[38;5;124m\"\u001b[39m, \u001b[38;5;124m\"\u001b[39m\u001b[38;5;124mcelta\u001b[39m\u001b[38;5;124m\"\u001b[39m, \u001b[38;5;124m\"\u001b[39m\u001b[38;5;124mpalio\u001b[39m\u001b[38;5;124m\"\u001b[39m)\n\u001b[0;32m      2\u001b[0m \u001b[38;5;28mprint\u001b[39m(carros[\u001b[38;5;241m0\u001b[39m])\n\u001b[1;32m----> 3\u001b[0m \u001b[43mcarros\u001b[49m\u001b[43m[\u001b[49m\u001b[38;5;241;43m0\u001b[39;49m\u001b[43m]\u001b[49m \u001b[38;5;241m=\u001b[39m \u001b[38;5;124m\"\u001b[39m\u001b[38;5;124mgolf\u001b[39m\u001b[38;5;124m\"\u001b[39m\n",
      "\u001b[1;31mTypeError\u001b[0m: 'tuple' object does not support item assignment"
     ]
    }
   ],
   "source": [
    "carros = (\"gol\", \"celta\", \"palio\")\n",
    "print(carros[0])\n",
    "carros[0] = \"golf\""
   ]
  },
  {
   "cell_type": "code",
   "execution_count": 19,
   "metadata": {},
   "outputs": [
    {
     "name": "stdout",
     "output_type": "stream",
     "text": [
      "False\n",
      "<class 'str'>\n",
      "1287945966464\n",
      "1287945966464\n",
      "False\n",
      "<class 'str'>\n",
      "1287945966464\n",
      "1287945966464\n"
     ]
    }
   ],
   "source": [
    "carros = (\"gol\")\n",
    "carross = \"gol\"\n",
    "print(isinstance(carros, tuple))\n",
    "print(type(carros))\n",
    "print(id(carros))\n",
    "print(id((\"gol\")))\n",
    "print(isinstance(carross, tuple))\n",
    "print(type(carross))\n",
    "print(id(carross))\n",
    "print(id(\"gol\"))"
   ]
  },
  {
   "cell_type": "code",
   "execution_count": 52,
   "metadata": {},
   "outputs": [],
   "source": [
    "from time import sleep"
   ]
  },
  {
   "cell_type": "code",
   "execution_count": 55,
   "metadata": {},
   "outputs": [
    {
     "name": "stdout",
     "output_type": "stream",
     "text": [
      "a: [[0, 1], [2, 3]]\n",
      "b: [[0, 1], [2, 3]]\n",
      "Bernardo\n",
      "a[0][0]: 0\n",
      "a: [['oi', 1], [2, 3]]\n",
      "b: [[0, 1], [2, 3]]\n"
     ]
    }
   ],
   "source": [
    "a = [[0,1],[2,3]]\n",
    "b = copy.deepcopy(a)\n",
    "\n",
    "print(f\"a: {a}\")\n",
    "print(f\"b: {b}\")\n",
    "A = \"Abore\"\n",
    "print(\"Bernardo\")\n",
    "print(f\"a[0][0]: {a[0][0]}\")\n",
    "a[0][0]= \"oi\"\n",
    "\n",
    "print(f\"a: {a}\")\n",
    "print(f\"b: {b}\")\n"
   ]
  },
  {
   "cell_type": "code",
   "execution_count": 50,
   "metadata": {},
   "outputs": [
    {
     "ename": "IndexError",
     "evalue": "list index out of range",
     "output_type": "error",
     "traceback": [
      "\u001b[1;31m---------------------------------------------------------------------------\u001b[0m",
      "\u001b[1;31mIndexError\u001b[0m                                Traceback (most recent call last)",
      "Cell \u001b[1;32mIn[50], line 19\u001b[0m\n\u001b[0;32m     17\u001b[0m result_1 \u001b[38;5;241m=\u001b[39m extract_user_story_parts(text_1)\n\u001b[0;32m     18\u001b[0m result_2 \u001b[38;5;241m=\u001b[39m extract_user_story_parts(text_2)\n\u001b[1;32m---> 19\u001b[0m result_3 \u001b[38;5;241m=\u001b[39m \u001b[43mextract_user_story_parts\u001b[49m\u001b[43m(\u001b[49m\u001b[43mtext_3\u001b[49m\u001b[43m)\u001b[49m\n\u001b[0;32m     20\u001b[0m results \u001b[38;5;241m=\u001b[39m [result_1, result_2, result_3]\n\u001b[0;32m     21\u001b[0m \u001b[38;5;28;01mfor\u001b[39;00m i, result \u001b[38;5;129;01min\u001b[39;00m \u001b[38;5;28menumerate\u001b[39m(results, \u001b[38;5;241m1\u001b[39m):\n",
      "Cell \u001b[1;32mIn[50], line 3\u001b[0m, in \u001b[0;36mextract_user_story_parts\u001b[1;34m(text)\u001b[0m\n\u001b[0;32m      1\u001b[0m \u001b[38;5;28;01mdef\u001b[39;00m \u001b[38;5;21mextract_user_story_parts\u001b[39m(text):\n\u001b[0;32m      2\u001b[0m     pattern \u001b[38;5;241m=\u001b[39m \u001b[38;5;124mr\u001b[39m\u001b[38;5;124m\"\u001b[39m\u001b[38;5;124mAs a (.*?), I want (.*?) so that (.*?)(?:\u001b[39m\u001b[38;5;124m\\\u001b[39m\u001b[38;5;124m.|$)\u001b[39m\u001b[38;5;124m\"\u001b[39m\n\u001b[1;32m----> 3\u001b[0m     match \u001b[38;5;241m=\u001b[39m \u001b[43mre\u001b[49m\u001b[38;5;241;43m.\u001b[39;49m\u001b[43mfindall\u001b[49m\u001b[43m(\u001b[49m\u001b[43mpattern\u001b[49m\u001b[43m,\u001b[49m\u001b[43m \u001b[49m\u001b[43mtext\u001b[49m\u001b[43m,\u001b[49m\u001b[43m \u001b[49m\u001b[43mre\u001b[49m\u001b[38;5;241;43m.\u001b[39;49m\u001b[43mIGNORECASE\u001b[49m\u001b[43m)\u001b[49m\u001b[43m[\u001b[49m\u001b[38;5;241;43m0\u001b[39;49m\u001b[43m]\u001b[49m\n\u001b[0;32m      4\u001b[0m     result \u001b[38;5;241m=\u001b[39m {\n\u001b[0;32m      5\u001b[0m             \u001b[38;5;124m\"\u001b[39m\u001b[38;5;124mtype_of_user\u001b[39m\u001b[38;5;124m\"\u001b[39m: match[\u001b[38;5;241m0\u001b[39m],\n\u001b[0;32m      6\u001b[0m             \u001b[38;5;124m\"\u001b[39m\u001b[38;5;124mgoal\u001b[39m\u001b[38;5;124m\"\u001b[39m: match[\u001b[38;5;241m1\u001b[39m],\n\u001b[0;32m      7\u001b[0m             \u001b[38;5;124m\"\u001b[39m\u001b[38;5;124mreason\u001b[39m\u001b[38;5;124m\"\u001b[39m: match[\u001b[38;5;241m2\u001b[39m]\n\u001b[0;32m      8\u001b[0m         }\n\u001b[0;32m      9\u001b[0m     \u001b[38;5;28;01mreturn\u001b[39;00m result\n",
      "\u001b[1;31mIndexError\u001b[0m: list index out of range"
     ]
    }
   ],
   "source": [
    "def extract_user_story_parts(text):\n",
    "    pattern = r\"As a (.*?), I want (.*?) so that (.*?)(?:\\.|$)\"\n",
    "    match = re.findall(pattern, text, re.IGNORECASE)[0]\n",
    "    result = {\n",
    "            \"type_of_user\": match[0],\n",
    "            \"goal\": match[1],\n",
    "            \"reason\": match[2]\n",
    "        }\n",
    "    return result\n",
    "\n",
    "text_1 = \"\"\"\n",
    "as a user of the application, I want to access context-sensitive help material relevant to the specific action or scenario I am currently engaged with on any user interface, so that I can quickly understand how to effectively use the application's features and resolve any issues or confusion without having to search through extensive documentation.\n",
    "\"\"\"\n",
    "text_2 = \"\"\"As a user, I want to be able to access the help feature regardless of whether I am connected to the internet or not, so that I can get assistance whenever I need it, whether I'm online or offline.\n",
    "\"\"\"\n",
    "text_3 = \"\"\"As an application user, I want to be able to log defects or enhancement requests through a user-friendly interface so that I can report issues or suggest improvements and track their progress.\"\"\"\n",
    "result_1 = extract_user_story_parts(text_1)\n",
    "result_2 = extract_user_story_parts(text_2)\n",
    "result_3 = extract_user_story_parts(text_3)\n",
    "results = [result_1, result_2, result_3]\n",
    "for i, result in enumerate(results, 1):\n",
    "    print(f\"História {i}\")\n",
    "    print(f\"- Tipo de usuário: {result['type_of_user']}\")\n",
    "    print(f\"- Objetivo: {result['goal']}\")\n",
    "    print(f\"- Razão: {result['reason']}\")\n",
    "\n"
   ]
  }
 ],
 "metadata": {
  "kernelspec": {
   "display_name": "Python 3",
   "language": "python",
   "name": "python3"
  },
  "language_info": {
   "codemirror_mode": {
    "name": "ipython",
    "version": 3
   },
   "file_extension": ".py",
   "mimetype": "text/x-python",
   "name": "python",
   "nbconvert_exporter": "python",
   "pygments_lexer": "ipython3",
   "version": "3.12.3"
  }
 },
 "nbformat": 4,
 "nbformat_minor": 2
}
