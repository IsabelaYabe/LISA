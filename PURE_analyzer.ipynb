{
 "cells": [
  {
   "cell_type": "code",
   "execution_count": 1,
   "metadata": {},
   "outputs": [],
   "source": [
    "import pandas as pd\n",
    "import os"
   ]
  },
  {
   "cell_type": "code",
   "execution_count": 2,
   "metadata": {},
   "outputs": [],
   "source": [
    "pure_path = \"data\\\\Pure_Annotate_Dataset.csv\"\n",
    "pure_test_data_path = \"data\\\\testData.csv\"\n"
   ]
  },
  {
   "cell_type": "code",
   "execution_count": 59,
   "metadata": {},
   "outputs": [],
   "source": [
    "reqlist_path = os.path.join(\"data\", \"ReqList_ReqNet_ReqSim\", \"1.1 ReqLists\")\n",
    "req_list_files = os.listdir(reqlist_path)\n"
   ]
  },
  {
   "cell_type": "code",
   "execution_count": 93,
   "metadata": {},
   "outputs": [],
   "source": [
    "#req_path = os.path.join(\"data\", \"req\")\n",
    "req_path = os.path.join(\"data\", \"ReqList_ReqNet_ReqSim\", \"0    Requirement Specification Documents\")\n",
    "req_doc_files = os.listdir(req_path)\n"
   ]
  },
  {
   "cell_type": "code",
   "execution_count": 95,
   "metadata": {},
   "outputs": [
    {
     "name": "stdout",
     "output_type": "stream",
     "text": [
      "Número de arquivos de requisitos em req_list_files: 86\n",
      "Número de documentos de requisitos em rec_doc_files: 82\n"
     ]
    }
   ],
   "source": [
    "print(f\"Número de arquivos de requisitos em req_list_files: {len(req_list_files)}\")\n",
    "print(f\"Número de documentos de requisitos em rec_doc_files: {len(req_doc_files)}\")"
   ]
  },
  {
   "cell_type": "code",
   "execution_count": 96,
   "metadata": {},
   "outputs": [
    {
     "name": "stdout",
     "output_type": "stream",
     "text": [
      "{'2009 - gaia', '2022 - UAM IMS', 'light-control-system', '2004 - rlcs', '2007 - ertms', '1998 - themas', '2007 - eirene fun 7', '2001 - npac', '2007 - Wildlife', '2009 - peppol', '2002 - evla back', '2007 - get real 0', '2014 - Minutia', '2016 - FDP Clearinghouse', '2005 - znix', '2007 - nde', '2005 - triangle', '2005 - nenios', '1999 - multi-mahjong', '2000 - Barrel', '2003 - tachonet', '2005 - grid 3D', '2010 - blit draft', '0000 - cctns', '2003 - qheadache', '0000 - gamma j', '2002 - evla corr', '2004 - colorcast', '2001 - esa', '2011 - KMS', '1999 - tcs', 'automated-insulin-pump', '2000 - nasa x38', '2009 - library', '2010 - split merge', '2019 - MOSAR', 'RROWDyS', '2009 - video search', '2001 - ctc network', '2008 - virtual ed', '2010 - fishing', '2009 - warc III', '2001 - hats', '2007 - puget sound', '2004 - sprat', '2005 - phin', '2003 - agentmom', '1999 - Defense', '2006 - stewards', '2005 - clarus low', '2009 - library2', '2003 - pnnl', '2004 - grid bgc', '2021 - ReqView', '1997 - Modis', '2006 - eirene sys 15', '2017 - ePhyto', '2022 - MobileSurveillance', '2005 - clarus high', '2001 - beyond', '2008 - caiso', '2012 - NASAProcessReq', '2005 - pontis', '1995 - gemini', '1995 - Landsat7', '2010 - mashboot', '0000 - inventory', '2001 - elsfork', '2007 - e-store', '2007 - mdot', '2010 - home 1'}\n",
      "71\n"
     ]
    }
   ],
   "source": [
    "req_list_files_names = set([x[:x.find(\".\")] for x in req_list_files])\n",
    "req_doc_files_names = set([x[:x.find(\".\")] for x in req_doc_files])\n",
    "    \n",
    "inter_list_doc = set(req_list_files_names).intersection(set(req_doc_files_names))\n",
    "print(inter_list_doc)\n",
    "print(len(inter_list_doc))"
   ]
  },
  {
   "cell_type": "code",
   "execution_count": 97,
   "metadata": {},
   "outputs": [
    {
     "name": "stdout",
     "output_type": "stream",
     "text": [
      "Arquivos em req_list_files_names que não estão em req_doc_files_names: ['2004 - SGVTraffic', '2011 - CCHIT', '2012 - EMR CCHCS EA', '2012 - EMR CCHCS ISO', '2012 - EMR CCHIT LT', '2012 - EMR HHS', '2012 - EMR HL7 DC', '2012 - EMR HL7 IN', '2012 - EMR Pharmacy', '2013 - iTrust', '2017 - NISTMfgData', '2018 - DataWarehouse', '2021 - ConnectedVehiclePilotNYC', 'EHR System FuncReq - LA DHS', 'EHR System TechReq LA DHS']\n",
      "Arquivos em req_doc_files_names que não estão em req_list_files_names: ['2004 - SGVTF Integration', '2011 - CCHIT Ambulatory EHR 20110517', '2012 - EMR CCHCS EA ISO HL7 IN 20120420_Attach8', '2012 - EMR HL7 DC - CCHIT LT - Pharmacy - HHS_Attach9', '2013 - iTrust_requirements', '2017 - NISTMfgData NIST', '2018 - Data_Warehouse_V2_0', '2021 - Connected Vehicle Pilot NYC', 'EHR System FuncReq - LA DHS Appendix H-1', 'EHR System TechReq LA DHS Appendix I-1']\n"
     ]
    }
   ],
   "source": [
    "req_files_list_sub_doc = list(req_list_files_names - req_doc_files_names)\n",
    "req_files_doc_sub_list = list(req_doc_files_names - req_list_files_names)\n",
    "req_files_list_sub_doc.sort()\n",
    "req_files_doc_sub_list.sort() \n",
    "print(f\"Arquivos em req_list_files_names que não estão em req_doc_files_names: {req_files_list_sub_doc}\")\n",
    "print(f\"Arquivos em req_doc_files_names que não estão em req_list_files_names: {req_files_doc_sub_list}\")"
   ]
  },
  {
   "cell_type": "code",
   "execution_count": 101,
   "metadata": {},
   "outputs": [
    {
     "name": "stdout",
     "output_type": "stream",
     "text": [
      "10\n",
      "2004 - SGVTF Integration\n",
      "2011 - CCHIT Ambulatory EHR 20110517\n",
      "2012 - EMR CCHCS EA ISO HL7 IN 20120420_Attach8\n",
      "2012 - EMR HL7 DC - CCHIT LT - Pharmacy - HHS_Attach9\n",
      "2013 - iTrust_requirements\n",
      "2017 - NISTMfgData NIST\n",
      "2018 - Data_Warehouse_V2_0\n",
      "2021 - Connected Vehicle Pilot NYC\n",
      "EHR System FuncReq - LA DHS Appendix H-1\n",
      "EHR System TechReq LA DHS Appendix I-1\n"
     ]
    }
   ],
   "source": [
    "print(len(req_files_doc_sub_list))\n",
    "for file in req_files_doc_sub_list:\n",
    "    print(file)"
   ]
  },
  {
   "cell_type": "code",
   "execution_count": 102,
   "metadata": {},
   "outputs": [
    {
     "name": "stdout",
     "output_type": "stream",
     "text": [
      "15\n",
      "2004 - SGVTraffic\n",
      "2011 - CCHIT\n",
      "2012 - EMR CCHCS EA\n",
      "2012 - EMR CCHCS ISO\n",
      "2012 - EMR CCHIT LT\n",
      "2012 - EMR HHS\n",
      "2012 - EMR HL7 DC\n",
      "2012 - EMR HL7 IN\n",
      "2012 - EMR Pharmacy\n",
      "2013 - iTrust\n",
      "2017 - NISTMfgData\n",
      "2018 - DataWarehouse\n",
      "2021 - ConnectedVehiclePilotNYC\n",
      "EHR System FuncReq - LA DHS\n",
      "EHR System TechReq LA DHS\n"
     ]
    }
   ],
   "source": [
    "print(len(req_files_list_sub_doc))\n",
    "for file in req_files_list_sub_doc:\n",
    "    print(file)"
   ]
  },
  {
   "cell_type": "code",
   "execution_count": null,
   "metadata": {},
   "outputs": [],
   "source": [
    "de_para = {\"2004 - SGVTF Integration\" : \"2004 - SGVTraffic\",           \n",
    "        \"2011 - CCHIT Ambulatory EHR 20110517\" : \"2011 - CCHIT\",\n",
    "        \"2012 - EMR CCHCS EA ISO HL7 IN 20120420_Attach8\" :\n",
    "        \"2012 - EMR HL7 DC - CCHIT LT - Pharmacy - HHS_Attach9\" :\n",
    "        \"2013 - iTrust_requirements\" : \"2013 - iTrust\",\n",
    "        \"2017 - NISTMfgData NIST\" : \"2017 - NISTMfgData\",\n",
    "        \"2018 - Data_Warehouse_V2_0\" : \"2018 - DataWarehouse\",\n",
    "        \"2021 - Connected Vehicle Pilot NYC\" : \"2021 - ConnectedVehiclePilotNYC\",\n",
    "        \"EHR System FuncReq - LA DHS Appendix H-1\" : \"EHR System FuncReq - LA DHS\"\n",
    "        \"EHR System TechReq LA DHS Appendix I-1\": \"EHR System TechReq LA DHS\"}"
   ]
  }
 ],
 "metadata": {
  "kernelspec": {
   "display_name": ".venv",
   "language": "python",
   "name": "python3"
  },
  "language_info": {
   "codemirror_mode": {
    "name": "ipython",
    "version": 3
   },
   "file_extension": ".py",
   "mimetype": "text/x-python",
   "name": "python",
   "nbconvert_exporter": "python",
   "pygments_lexer": "ipython3",
   "version": "3.12.3"
  }
 },
 "nbformat": 4,
 "nbformat_minor": 2
}
