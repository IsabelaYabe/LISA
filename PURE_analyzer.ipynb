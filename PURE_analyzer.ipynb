{
 "cells": [
  {
   "cell_type": "code",
   "execution_count": 1,
   "metadata": {},
   "outputs": [],
   "source": [
    "import pandas as pd\n",
    "import os"
   ]
  },
  {
   "cell_type": "code",
   "execution_count": 2,
   "metadata": {},
   "outputs": [],
   "source": [
    "pure_path = \"data\\\\Pure_Annotate_Dataset.csv\"\n",
    "pure_test_data_path = \"data\\\\testData.csv\"\n"
   ]
  },
  {
   "cell_type": "code",
   "execution_count": 3,
   "metadata": {},
   "outputs": [],
   "source": [
    "reqlist_path = os.path.join(\"data\", \"ReqList_ReqNet_ReqSim\", \"1.1 ReqLists\")\n",
    "req_list_files = os.listdir(reqlist_path)\n"
   ]
  },
  {
   "cell_type": "code",
   "execution_count": 4,
   "metadata": {},
   "outputs": [],
   "source": [
    "#req_path = os.path.join(\"data\", \"req\")\n",
    "req_path = os.path.join(\"data\", \"ReqList_ReqNet_ReqSim\", \"0    Requirement Specification Documents\")\n",
    "req_doc_files = os.listdir(req_path)\n"
   ]
  },
  {
   "cell_type": "code",
   "execution_count": 5,
   "metadata": {},
   "outputs": [],
   "source": [
    "doc_structure_path = os.path.join(\"data\", \"ReqList_ReqNet_ReqSim\", \"1.3 DocumentStructure - Metadata\")\n",
    "doc_structure = os.listdir(doc_structure_path)"
   ]
  },
  {
   "cell_type": "code",
   "execution_count": 6,
   "metadata": {},
   "outputs": [
    {
     "name": "stdout",
     "output_type": "stream",
     "text": [
      "Número de arquivos de requisitos em req_list_files: 86\n",
      "Número de documentos de requisitos em rec_doc_files: 82\n",
      "Número de documentos de estrutura em DocumentStructure - Metadata: 86\n"
     ]
    }
   ],
   "source": [
    "print(f\"Número de arquivos de requisitos em req_list_files: {len(req_list_files)}\")\n",
    "print(f\"Número de documentos de requisitos em rec_doc_files: {len(req_doc_files)}\")\n",
    "print(f\"Número de documentos de estrutura em DocumentStructure - Metadata: {len(doc_structure)}\")"
   ]
  },
  {
   "cell_type": "code",
   "execution_count": 7,
   "metadata": {},
   "outputs": [
    {
     "name": "stdout",
     "output_type": "stream",
     "text": [
      "{'2009 - warc III', '0000 - inventory', '2005 - pontis', '2001 - hats', '2004 - grid bgc', '2003 - pnnl', '2007 - e-store', '2007 - get real 0', '2008 - caiso', '2012 - NASAProcessReq', 'automated-insulin-pump', '2005 - triangle', '2022 - MobileSurveillance', '2002 - evla corr', '2011 - KMS', '2005 - clarus low', '2000 - nasa x38', 'EHR System TechReq LA DHS', '2007 - eirene fun 7', '2001 - elsfork', '1999 - multi-mahjong', '2001 - ctc network', '2004 - colorcast', '2001 - npac', '2007 - mdot', '2010 - blit draft', '2003 - tachonet', '2007 - nde', '2001 - esa', '2007 - Wildlife', '2021 - ReqView', '1998 - themas', '2022 - UAM IMS', '1999 - Defense', '2016 - FDP Clearinghouse', '2009 - library2', '2004 - SGVTraffic', '2004 - sprat', '2008 - virtual ed', '2002 - evla back', '2010 - fishing', '2009 - gaia', '2010 - split merge', '2003 - qheadache', '2005 - phin', '2006 - stewards', '2009 - peppol', '2007 - puget sound', '1995 - Landsat7', '2017 - ePhyto', '0000 - gamma j', '0000 - cctns', '1999 - tcs', '2001 - beyond', '2017 - NISTMfgData', '2010 - home 1', '2003 - agentmom', 'EHR System FuncReq - LA DHS', '2010 - mashboot', '1997 - Modis', '2011 - CCHIT', '2009 - video search', '2006 - eirene sys 15', 'light-control-system', 'RROWDyS', '2013 - iTrust', '2007 - ertms', '2014 - Minutia', '2021 - ConnectedVehiclePilotNYC', '2005 - clarus high', '2005 - nenios', '2005 - znix', '2009 - library', '1995 - gemini', '2004 - rlcs', '2000 - Barrel', '2018 - DataWarehouse', '2005 - grid 3D', '2019 - MOSAR'}\n",
      "79\n"
     ]
    }
   ],
   "source": [
    "doc_struct_names = set([x[:x.find(\".\")] for x in doc_structure])\n",
    "req_doc_files_names = set([x[:x.find(\".\")] for x in req_doc_files])\n",
    "    \n",
    "inter_list_doc = set(doc_struct_names).intersection(set(req_doc_files_names))\n",
    "print(inter_list_doc)\n",
    "print(len(inter_list_doc))"
   ]
  },
  {
   "cell_type": "code",
   "execution_count": 8,
   "metadata": {},
   "outputs": [
    {
     "name": "stdout",
     "output_type": "stream",
     "text": [
      "Arquivos em doc_struct_names que não estão em req_doc_files_names: ['2012 - EMR CCHCS EA', '2012 - EMR CCHCS ISO', '2012 - EMR CCHIT LT', '2012 - EMR HHS', '2012 - EMR HL7 DC', '2012 - EMR HL7 IN', '2012 - EMR Pharmacy']\n",
      "Arquivos em req_doc_files_names que não estão em doc_struct_names: ['2012 - EMR CCHCS EA ISO HL7 IN', '2012 - EMR HL7 DC - CCHIT LT - Pharmacy - HHS']\n"
     ]
    }
   ],
   "source": [
    "A = list(doc_struct_names - req_doc_files_names)\n",
    "B = list(req_doc_files_names - doc_struct_names)\n",
    "A.sort()\n",
    "B.sort() \n",
    "print(f\"Arquivos em doc_struct_names que não estão em req_doc_files_names: {A}\")\n",
    "print(f\"Arquivos em req_doc_files_names que não estão em doc_struct_names: {B}\")"
   ]
  },
  {
   "cell_type": "code",
   "execution_count": 9,
   "metadata": {},
   "outputs": [
    {
     "name": "stdout",
     "output_type": "stream",
     "text": [
      "2\n",
      "2012 - EMR CCHCS EA ISO HL7 IN\n",
      "2012 - EMR HL7 DC - CCHIT LT - Pharmacy - HHS\n"
     ]
    }
   ],
   "source": [
    "print(len(B))\n",
    "for file in B:\n",
    "    print(file)"
   ]
  },
  {
   "cell_type": "code",
   "execution_count": 10,
   "metadata": {},
   "outputs": [
    {
     "name": "stdout",
     "output_type": "stream",
     "text": [
      "7\n",
      "2012 - EMR CCHCS EA\n",
      "2012 - EMR CCHCS ISO\n",
      "2012 - EMR CCHIT LT\n",
      "2012 - EMR HHS\n",
      "2012 - EMR HL7 DC\n",
      "2012 - EMR HL7 IN\n",
      "2012 - EMR Pharmacy\n"
     ]
    }
   ],
   "source": [
    "print(len(A))\n",
    "for file in A:\n",
    "    print(file)"
   ]
  },
  {
   "cell_type": "code",
   "execution_count": 11,
   "metadata": {},
   "outputs": [
    {
     "name": "stdout",
     "output_type": "stream",
     "text": [
      "{'2009 - warc III', '0000 - inventory', '2005 - pontis', '2001 - hats', '2004 - grid bgc', '2003 - pnnl', '2007 - e-store', '2007 - get real 0', '2008 - caiso', '2012 - NASAProcessReq', 'automated-insulin-pump', '2005 - triangle', '2022 - MobileSurveillance', '2002 - evla corr', '2011 - KMS', '2005 - clarus low', '2000 - nasa x38', 'EHR System TechReq LA DHS', '2007 - eirene fun 7', '2001 - elsfork', '1999 - multi-mahjong', '2001 - ctc network', '2004 - colorcast', '2001 - npac', '2007 - mdot', '2010 - blit draft', '2003 - tachonet', '2007 - nde', '2001 - esa', '2007 - Wildlife', '2021 - ReqView', '1998 - themas', '2022 - UAM IMS', '1999 - Defense', '2016 - FDP Clearinghouse', '2009 - library2', '2004 - SGVTraffic', '2004 - sprat', '2008 - virtual ed', '2002 - evla back', '2010 - fishing', '2009 - gaia', '2010 - split merge', '2003 - qheadache', '2005 - phin', '2006 - stewards', '2009 - peppol', '2007 - puget sound', '1995 - Landsat7', '2017 - ePhyto', '0000 - gamma j', '0000 - cctns', '1999 - tcs', '2001 - beyond', '2017 - NISTMfgData', '2010 - home 1', '2003 - agentmom', 'EHR System FuncReq - LA DHS', '2010 - mashboot', '1997 - Modis', '2011 - CCHIT', '2009 - video search', '2006 - eirene sys 15', 'light-control-system', 'RROWDyS', '2013 - iTrust', '2007 - ertms', '2014 - Minutia', '2021 - ConnectedVehiclePilotNYC', '2005 - clarus high', '2005 - nenios', '2005 - znix', '2009 - library', '1995 - gemini', '2004 - rlcs', '2000 - Barrel', '2018 - DataWarehouse', '2005 - grid 3D', '2019 - MOSAR'}\n",
      "79\n"
     ]
    }
   ],
   "source": [
    "req_list_files_names = set([x[:x.find(\".\")] for x in req_list_files])\n",
    "req_doc_files_names = set([x[:x.find(\".\")] for x in req_doc_files])\n",
    "    \n",
    "inter_list_doc = set(req_list_files_names).intersection(set(req_doc_files_names))\n",
    "print(inter_list_doc)\n",
    "print(len(inter_list_doc))"
   ]
  },
  {
   "cell_type": "code",
   "execution_count": 12,
   "metadata": {},
   "outputs": [
    {
     "name": "stdout",
     "output_type": "stream",
     "text": [
      "Arquivos em req_list_files_names que não estão em req_doc_files_names: ['2012 - EMR CCHCS EA', '2012 - EMR CCHCS ISO', '2012 - EMR CCHIT LT', '2012 - EMR HHS', '2012 - EMR HL7 DC', '2012 - EMR HL7 IN', '2012 - EMR Pharmacy']\n",
      "Arquivos em req_doc_files_names que não estão em req_list_files_names: ['2012 - EMR CCHCS EA ISO HL7 IN', '2012 - EMR HL7 DC - CCHIT LT - Pharmacy - HHS']\n"
     ]
    }
   ],
   "source": [
    "req_files_list_sub_doc = list(req_list_files_names - req_doc_files_names)\n",
    "req_files_doc_sub_list = list(req_doc_files_names - req_list_files_names)\n",
    "req_files_list_sub_doc.sort()\n",
    "req_files_doc_sub_list.sort() \n",
    "print(f\"Arquivos em req_list_files_names que não estão em req_doc_files_names: {req_files_list_sub_doc}\")\n",
    "print(f\"Arquivos em req_doc_files_names que não estão em req_list_files_names: {req_files_doc_sub_list}\")\n"
   ]
  },
  {
   "cell_type": "code",
   "execution_count": 13,
   "metadata": {},
   "outputs": [
    {
     "name": "stdout",
     "output_type": "stream",
     "text": [
      "2\n",
      "2012 - EMR CCHCS EA ISO HL7 IN\n",
      "2012 - EMR HL7 DC - CCHIT LT - Pharmacy - HHS\n"
     ]
    }
   ],
   "source": [
    "print(len(req_files_doc_sub_list))\n",
    "for file in req_files_doc_sub_list:\n",
    "    print(file)"
   ]
  },
  {
   "cell_type": "code",
   "execution_count": 14,
   "metadata": {},
   "outputs": [
    {
     "name": "stdout",
     "output_type": "stream",
     "text": [
      "7\n",
      "2012 - EMR CCHCS EA\n",
      "2012 - EMR CCHCS ISO\n",
      "2012 - EMR CCHIT LT\n",
      "2012 - EMR HHS\n",
      "2012 - EMR HL7 DC\n",
      "2012 - EMR HL7 IN\n",
      "2012 - EMR Pharmacy\n"
     ]
    }
   ],
   "source": [
    "print(len(req_files_list_sub_doc))\n",
    "for file in req_files_list_sub_doc:\n",
    "    print(file)"
   ]
  },
  {
   "cell_type": "code",
   "execution_count": 15,
   "metadata": {},
   "outputs": [],
   "source": [
    "doc_req = {\n",
    "        \"2012 - EMR CCHCS EA ISO HL7 IN 20120420_Attach8\" : [\"2012 - EMR CCHCS EA\", \"2012 - EMR CCHCS ISO\", \"2012 - EMR HL7 IN\"],\n",
    "        \"2012 - EMR HL7 DC - CCHIT LT - Pharmacy - HHS_Attach9\" : [\"2012 - EMR CCHIT LT\", \"2012 - EMR HHS\", \"2012 - EMR HL7 DC\", \"2012 - EMR Pharmacy\"]\n",
    "        }\t"
   ]
  }
 ],
 "metadata": {
  "kernelspec": {
   "display_name": "Python 3",
   "language": "python",
   "name": "python3"
  },
  "language_info": {
   "codemirror_mode": {
    "name": "ipython",
    "version": 3
   },
   "file_extension": ".py",
   "mimetype": "text/x-python",
   "name": "python",
   "nbconvert_exporter": "python",
   "pygments_lexer": "ipython3",
   "version": "3.12.3"
  }
 },
 "nbformat": 4,
 "nbformat_minor": 2
}
