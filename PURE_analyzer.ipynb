{
 "cells": [
  {
   "cell_type": "code",
   "execution_count": 29,
   "metadata": {},
   "outputs": [],
   "source": [
    "import os\n",
    "import pandas as pd\n",
    "\n",
    "def verificar_arquivos(diretorio1, diretorio2):\n",
    "    \"\"\"\n",
    "    Compara nomes de arquivos entre dois diretórios e retorna informações sobre interseções e diferenças.\n",
    "    \n",
    "    Args:\n",
    "        diretorio1 (str): Caminho do primeiro diretório.\n",
    "        diretorio2 (str): Caminho do segundo diretório.\n",
    "        \n",
    "    Returns:\n",
    "        dict: Um dicionário contendo interseções e arquivos exclusivos de cada diretório.\n",
    "    \"\"\"\n",
    "    arquivos1 = os.listdir(diretorio1)\n",
    "    arquivos2 = os.listdir(diretorio2)\n",
    "    \n",
    "    nomes1 = set([x[:x.find(\".\")] for x in arquivos1])\n",
    "    nomes2 = set([x[:x.find(\".\")] for x in arquivos2])\n",
    "    \n",
    "    interseccao = nomes1.intersection(nomes2)\n",
    "    exclusivos_diretorio1 = nomes1 - nomes2\n",
    "    exclusivos_diretorio2 = nomes2 - nomes1\n",
    "    \n",
    "    exclusivos_diretorio1 = sorted(list(exclusivos_diretorio1))\n",
    "    exclusivos_diretorio2 = sorted(list(exclusivos_diretorio2))\n",
    "    \n",
    "    resultado =  {\n",
    "        \"interseccao\": interseccao,\n",
    "        \"exclusivos_diretorio1\": exclusivos_diretorio1,\n",
    "        \"exclusivos_diretorio2\": exclusivos_diretorio2\n",
    "    }\n",
    "\n",
    "    print(f\"Diretórios comparados: {diretorio1} e {diretorio2}\")\n",
    "    print(f\"Interseção: {resultado['interseccao']}\")\n",
    "    print(f\"Arquivos exclusivos no diretório 1: {resultado['exclusivos_diretorio1']}\")\n",
    "    print(f\"Arquivos exclusivos no diretório 2: {resultado['exclusivos_diretorio2']}\")\n",
    "    print(\"=\" * 250)\n",
    "\n",
    "    return resultado\n",
    "\n",
    "def verificar_keys(csv_path):\n",
    "    \"\"\"\n",
    "    Verifica se todas as chaves (keys) em um arquivo CSV começam com \"G.D0\".\n",
    "\n",
    "    Args:\n",
    "        csv_path (str): Caminho para o arquivo CSV.\n",
    "\n",
    "    Returns:\n",
    "        dict: Um dicionário contendo:\n",
    "              - \"valid_keys\": Lista de chaves válidas (que começam com \"G.D0\").\n",
    "              - \"invalid_keys\": Lista de chaves inválidas (que não começam com \"G.D0\").\n",
    "              - \"total_keys\": Número total de chaves verificadas.\n",
    "              - \"valid_count\": Número de chaves válidas.\n",
    "              - \"invalid_count\": Número de chaves inválidas.\n",
    "    \"\"\"\n",
    "    try:\n",
    "        df = pd.read_csv(csv_path)\n",
    "    except Exception as e:\n",
    "        return {\"error\": f\"Erro ao ler o arquivo CSV: {e}\"}\n",
    "\n",
    "    if \"keys\" not in df.columns:\n",
    "        return {\"error\": \"A coluna 'keys' não foi encontrada no arquivo CSV.\"}\n",
    "\n",
    "    keys = df[\"keys\"]\n",
    "\n",
    "    valid_keys = [key for key in keys if str(key).startswith(\"G.D\")]\n",
    "    invalid_keys = [key for key in keys if not str(key).startswith(\"G.D\")]\n",
    "\n",
    "    return {\n",
    "        \"valid_keys\": valid_keys,\n",
    "        \"invalid_keys\": invalid_keys,\n",
    "        \"total_keys\": len(keys),\n",
    "        \"valid_count\": len(valid_keys),\n",
    "        \"invalid_count\": len(invalid_keys)\n",
    "    }"
   ]
  },
  {
   "cell_type": "code",
   "execution_count": 30,
   "metadata": {},
   "outputs": [
    {
     "name": "stdout",
     "output_type": "stream",
     "text": [
      "Diretórios comparados: data\\ReqList_ReqNet_ReqSim\\1.1 ReqLists e data\\ReqList_ReqNet_ReqSim\\0.1 Raw Text\n",
      "Interseção: {'2007 - eirene fun 7', '2004 - grid bgc', '2022 - MobileSurveillance', '2010 - fishing', '2003 - agentmom', '2007 - puget sound', '2021 - ConnectedVehiclePilotNYC', '0000 - inventory', '2007 - mdot', '1995 - gemini', '2009 - gaia', '2013 - iTrust', '2011 - CCHIT', '2021 - ReqView', '2005 - grid 3D', '2007 - get real 0', '2002 - evla back', 'light-control-system', '2012 - EMR CCHIT LT', 'EHR System TechReq LA DHS', '2011 - KMS', '2001 - esa', '0000 - gamma j', '2004 - rlcs', '2007 - nde', '2009 - library2', '2012 - EMR HL7 DC', '0000 - cctns', '2008 - virtual ed', '2012 - EMR CCHCS EA', '1995 - Landsat7', '2005 - clarus low', '2004 - colorcast', '2010 - mashboot', '2006 - stewards', '2005 - clarus high', '2006 - eirene sys 15', '1999 - multi-mahjong', 'automated-insulin-pump', '2022 - UAM IMS', '2005 - znix', '1998 - themas', '2003 - pnnl', '2004 - SGVTraffic', '2010 - split merge', '2017 - ePhyto', 'RROWDyS', '2001 - beyond', '2007 - e-store', '2012 - EMR CCHCS ISO', '2005 - pontis', '2008 - caiso', '2001 - ctc network', '2003 - qheadache', '1999 - Defense', '2009 - peppol', '2005 - nenios', '2003 - tachonet', '2017 - NISTMfgData', '2018 - DataWarehouse', '2019 - MOSAR', '2000 - Barrel', '2000 - nasa x38', '2010 - blit draft', '2005 - phin', '2009 - video search', '1997 - Modis', '2009 - library', '2007 - Wildlife', '2002 - evla corr', '2016 - FDP Clearinghouse', '2012 - EMR Pharmacy', '2010 - home 1', '2001 - elsfork', '2012 - NASAProcessReq', '2004 - sprat', '2005 - triangle', '2007 - ertms', '2001 - hats', '2012 - EMR HL7 IN', '2014 - Minutia', '1999 - tcs', '2012 - EMR HHS', '2009 - warc III', 'EHR System FuncReq - LA DHS', '2001 - npac'}\n",
      "Arquivos exclusivos no diretório 1: []\n",
      "Arquivos exclusivos no diretório 2: []\n",
      "==========================================================================================================================================================================================================================================================\n",
      "Diretórios comparados: data\\ReqList_ReqNet_ReqSim\\1.1 ReqLists e data\\ReqList_ReqNet_ReqSim\\1.3 DocumentStructure - Metadata\n",
      "Interseção: {'2007 - eirene fun 7', '2004 - grid bgc', '2022 - MobileSurveillance', '2010 - fishing', '2003 - agentmom', '2007 - puget sound', '2021 - ConnectedVehiclePilotNYC', '0000 - inventory', '2007 - mdot', '1995 - gemini', '2009 - gaia', '2013 - iTrust', '2011 - CCHIT', '2021 - ReqView', '2005 - grid 3D', '2007 - get real 0', '2002 - evla back', 'light-control-system', '2012 - EMR CCHIT LT', 'EHR System TechReq LA DHS', '2011 - KMS', '2001 - esa', '0000 - gamma j', '2004 - rlcs', '2007 - nde', '2009 - library2', '2012 - EMR HL7 DC', '0000 - cctns', '2008 - virtual ed', '2012 - EMR CCHCS EA', '1995 - Landsat7', '2005 - clarus low', '2004 - colorcast', '2010 - mashboot', '2006 - stewards', '2005 - clarus high', '2006 - eirene sys 15', '1999 - multi-mahjong', 'automated-insulin-pump', '2022 - UAM IMS', '2005 - znix', '1998 - themas', '2003 - pnnl', '2004 - SGVTraffic', '2010 - split merge', '2017 - ePhyto', 'RROWDyS', '2001 - beyond', '2007 - e-store', '2012 - EMR CCHCS ISO', '2005 - pontis', '2008 - caiso', '2001 - ctc network', '2003 - qheadache', '1999 - Defense', '2009 - peppol', '2005 - nenios', '2003 - tachonet', '2017 - NISTMfgData', '2018 - DataWarehouse', '2019 - MOSAR', '2000 - Barrel', '2000 - nasa x38', '2010 - blit draft', '2005 - phin', '2009 - video search', '1997 - Modis', '2009 - library', '2007 - Wildlife', '2002 - evla corr', '2016 - FDP Clearinghouse', '2012 - EMR Pharmacy', '2010 - home 1', '2001 - elsfork', '2012 - NASAProcessReq', '2004 - sprat', '2005 - triangle', '2007 - ertms', '2001 - hats', '2012 - EMR HL7 IN', '2014 - Minutia', '1999 - tcs', '2012 - EMR HHS', '2009 - warc III', 'EHR System FuncReq - LA DHS', '2001 - npac'}\n",
      "Arquivos exclusivos no diretório 1: []\n",
      "Arquivos exclusivos no diretório 2: []\n",
      "==========================================================================================================================================================================================================================================================\n",
      "Diretórios comparados: data\\ReqList_ReqNet_ReqSim\\0.1 Raw Text e data\\ReqList_ReqNet_ReqSim\\1.3 DocumentStructure - Metadata\n",
      "Interseção: {'2007 - eirene fun 7', '2004 - grid bgc', '2022 - MobileSurveillance', '2010 - fishing', '2003 - agentmom', '2007 - puget sound', '2021 - ConnectedVehiclePilotNYC', '0000 - inventory', '2007 - mdot', '1995 - gemini', '2009 - gaia', '2013 - iTrust', '2011 - CCHIT', '2021 - ReqView', '2005 - grid 3D', '2007 - get real 0', '2002 - evla back', 'light-control-system', '2012 - EMR CCHIT LT', 'EHR System TechReq LA DHS', '2011 - KMS', '2001 - esa', '0000 - gamma j', '2004 - rlcs', '2007 - nde', '2009 - library2', '2012 - EMR HL7 DC', '0000 - cctns', '2008 - virtual ed', '2012 - EMR CCHCS EA', '1995 - Landsat7', '2005 - clarus low', '2004 - colorcast', '2010 - mashboot', '2006 - stewards', '2005 - clarus high', '2006 - eirene sys 15', '1999 - multi-mahjong', 'automated-insulin-pump', '2022 - UAM IMS', '2005 - znix', '1998 - themas', '2003 - pnnl', '2004 - SGVTraffic', '2010 - split merge', '2017 - ePhyto', 'RROWDyS', '2001 - beyond', '2007 - e-store', '2012 - EMR CCHCS ISO', '2005 - pontis', '2008 - caiso', '2001 - ctc network', '2003 - qheadache', '1999 - Defense', '2009 - peppol', '2005 - nenios', '2003 - tachonet', '2017 - NISTMfgData', '2018 - DataWarehouse', '2019 - MOSAR', '2000 - Barrel', '2000 - nasa x38', '2010 - blit draft', '2005 - phin', '2009 - video search', '1997 - Modis', '2009 - library', '2007 - Wildlife', '2002 - evla corr', '2016 - FDP Clearinghouse', '2012 - EMR Pharmacy', '2010 - home 1', '2001 - elsfork', '2012 - NASAProcessReq', '2004 - sprat', '2005 - triangle', '2007 - ertms', '2001 - hats', '2012 - EMR HL7 IN', '2014 - Minutia', '1999 - tcs', '2012 - EMR HHS', '2009 - warc III', 'EHR System FuncReq - LA DHS', '2001 - npac'}\n",
      "Arquivos exclusivos no diretório 1: []\n",
      "Arquivos exclusivos no diretório 2: []\n",
      "==========================================================================================================================================================================================================================================================\n"
     ]
    }
   ],
   "source": [
    "req_list_path = os.path.join(\"data\", \"ReqList_ReqNet_ReqSim\", \"1.1 ReqLists\")\n",
    "\n",
    "req_doc_path = os.path.join(\"data\", \"ReqList_ReqNet_ReqSim\", \"0    Requirement Specification Documents\")\n",
    "\n",
    "req_doc_raw_path = os.path.join(\"data\", \"ReqList_ReqNet_ReqSim\", \"0.1 Raw Text\")\n",
    "\n",
    "doc_structure_path = os.path.join(\"data\", \"ReqList_ReqNet_ReqSim\", \"1.3 DocumentStructure - Metadata\")\n",
    "\n",
    "#req_x_req_doc = verificar_arquivos(req_list_path, req_doc_path)\n",
    "req_x_req_doc_raw = verificar_arquivos(req_list_path, req_doc_raw_path)\n",
    "req_x_doc_structure = verificar_arquivos(req_list_path, doc_structure_path)\n",
    "#req_doc_x_doc_structure = verificar_arquivos(req_doc_path, doc_structure_path)\n",
    "#req_doc_x_req_doc_raw = verificar_arquivos(req_doc_path, req_doc_raw_path)\n",
    "req_doc_raw_x_doc_structure = verificar_arquivos(req_doc_raw_path, doc_structure_path)"
   ]
  },
  {
   "cell_type": "code",
   "execution_count": 33,
   "metadata": {},
   "outputs": [
    {
     "name": "stdout",
     "output_type": "stream",
     "text": [
      "Total de chaves verificadas: 12725\n",
      "Chaves válidas: 12725\n",
      "Chaves inválidas: 0\n",
      "\n",
      "Todas as chaves são válidas!\n"
     ]
    }
   ],
   "source": [
    "\n",
    "csv_path = os.path.join(\"data\",\"pure_req_user_stories.csv\") \n",
    "resultado = verificar_keys(csv_path)\n",
    "\n",
    "if \"error\" in resultado:\n",
    "    print(resultado[\"error\"])\n",
    "else:\n",
    "    print(f\"Total de chaves verificadas: {resultado['total_keys']}\")\n",
    "    print(f\"Chaves válidas: {resultado['valid_count']}\")\n",
    "    print(f\"Chaves inválidas: {resultado['invalid_count']}\")\n",
    "\n",
    "    if resultado[\"invalid_keys\"]:\n",
    "        print(\"\\nChaves inválidas encontradas:\")\n",
    "        for key in resultado[\"invalid_keys\"]:\n",
    "            print(f\"- {key}\")\n",
    "    else:\n",
    "        print(\"\\nTodas as chaves são válidas!\")"
   ]
  },
  {
   "cell_type": "code",
   "execution_count": 15,
   "metadata": {},
   "outputs": [],
   "source": [
    "doc_req = {\n",
    "        \"2012 - EMR CCHCS EA ISO HL7 IN 20120420_Attach8\" : [\"2012 - EMR CCHCS EA\", \"2012 - EMR CCHCS ISO\", \"2012 - EMR HL7 IN\"],\n",
    "        \"2012 - EMR HL7 DC - CCHIT LT - Pharmacy - HHS_Attach9\" : [\"2012 - EMR CCHIT LT\", \"2012 - EMR HHS\", \"2012 - EMR HL7 DC\", \"2012 - EMR Pharmacy\"]\n",
    "        }\t"
   ]
  }
 ],
 "metadata": {
  "kernelspec": {
   "display_name": "Python 3",
   "language": "python",
   "name": "python3"
  },
  "language_info": {
   "codemirror_mode": {
    "name": "ipython",
    "version": 3
   },
   "file_extension": ".py",
   "mimetype": "text/x-python",
   "name": "python",
   "nbconvert_exporter": "python",
   "pygments_lexer": "ipython3",
   "version": "3.11.1"
  }
 },
 "nbformat": 4,
 "nbformat_minor": 2
}
