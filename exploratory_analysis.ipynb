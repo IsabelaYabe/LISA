{
 "cells": [
  {
   "cell_type": "code",
   "execution_count": 3,
   "metadata": {},
   "outputs": [],
   "source": [
    "import pandas as pd"
   ]
  },
  {
   "cell_type": "code",
   "execution_count": 4,
   "metadata": {},
   "outputs": [],
   "source": [
    "pure_path = \"data\\\\Pure_Annotate_Dataset.csv\"\n",
    "pure_dataset = pd.read_csv(pure_path, sep=\",\", encoding=\"ISO-8859-1\")"
   ]
  },
  {
   "cell_type": "code",
   "execution_count": 5,
   "metadata": {},
   "outputs": [
    {
     "data": {
      "text/plain": [
       "Index(['id', 'sentence', 'security', 'reliability', 'NFR_boolean'], dtype='object')"
      ]
     },
     "execution_count": 5,
     "metadata": {},
     "output_type": "execute_result"
    }
   ],
   "source": [
    "pure_dataset.columns"
   ]
  },
  {
   "cell_type": "code",
   "execution_count": 6,
   "metadata": {},
   "outputs": [
    {
     "data": {
      "text/html": [
       "<div>\n",
       "<style scoped>\n",
       "    .dataframe tbody tr th:only-of-type {\n",
       "        vertical-align: middle;\n",
       "    }\n",
       "\n",
       "    .dataframe tbody tr th {\n",
       "        vertical-align: top;\n",
       "    }\n",
       "\n",
       "    .dataframe thead th {\n",
       "        text-align: right;\n",
       "    }\n",
       "</style>\n",
       "<table border=\"1\" class=\"dataframe\">\n",
       "  <thead>\n",
       "    <tr style=\"text-align: right;\">\n",
       "      <th></th>\n",
       "      <th>id</th>\n",
       "      <th>sentence</th>\n",
       "      <th>security</th>\n",
       "      <th>reliability</th>\n",
       "      <th>NFR_boolean</th>\n",
       "    </tr>\n",
       "  </thead>\n",
       "  <tbody>\n",
       "    <tr>\n",
       "      <th>0</th>\n",
       "      <td>CCHIT Certified 2011 Ambulatory EHR Criteria 2...</td>\n",
       "      <td>The system shall create a single patient recor...</td>\n",
       "      <td>0</td>\n",
       "      <td>0</td>\n",
       "      <td>0</td>\n",
       "    </tr>\n",
       "    <tr>\n",
       "      <th>1</th>\n",
       "      <td>CCHIT Certified 2011 Ambulatory EHR Criteria 2...</td>\n",
       "      <td>The system shall associate (store and link) ke...</td>\n",
       "      <td>0</td>\n",
       "      <td>0</td>\n",
       "      <td>0</td>\n",
       "    </tr>\n",
       "    <tr>\n",
       "      <th>2</th>\n",
       "      <td>CCHIT Certified 2011 Ambulatory EHR Criteria 2...</td>\n",
       "      <td>The system shall provide the ability to store ...</td>\n",
       "      <td>0</td>\n",
       "      <td>0</td>\n",
       "      <td>0</td>\n",
       "    </tr>\n",
       "    <tr>\n",
       "      <th>3</th>\n",
       "      <td>CCHIT Certified 2011 Ambulatory EHR Criteria 2...</td>\n",
       "      <td>The system shall provide a field which will id...</td>\n",
       "      <td>0</td>\n",
       "      <td>0</td>\n",
       "      <td>0</td>\n",
       "    </tr>\n",
       "    <tr>\n",
       "      <th>4</th>\n",
       "      <td>CCHIT Certified 2011 Ambulatory EHR Criteria 2...</td>\n",
       "      <td>The system shall provide the ability to merge ...</td>\n",
       "      <td>0</td>\n",
       "      <td>0</td>\n",
       "      <td>0</td>\n",
       "    </tr>\n",
       "  </tbody>\n",
       "</table>\n",
       "</div>"
      ],
      "text/plain": [
       "                                                  id  \\\n",
       "0  CCHIT Certified 2011 Ambulatory EHR Criteria 2...   \n",
       "1  CCHIT Certified 2011 Ambulatory EHR Criteria 2...   \n",
       "2  CCHIT Certified 2011 Ambulatory EHR Criteria 2...   \n",
       "3  CCHIT Certified 2011 Ambulatory EHR Criteria 2...   \n",
       "4  CCHIT Certified 2011 Ambulatory EHR Criteria 2...   \n",
       "\n",
       "                                            sentence  security  reliability  \\\n",
       "0  The system shall create a single patient recor...         0            0   \n",
       "1  The system shall associate (store and link) ke...         0            0   \n",
       "2  The system shall provide the ability to store ...         0            0   \n",
       "3  The system shall provide a field which will id...         0            0   \n",
       "4  The system shall provide the ability to merge ...         0            0   \n",
       "\n",
       "   NFR_boolean  \n",
       "0            0  \n",
       "1            0  \n",
       "2            0  \n",
       "3            0  \n",
       "4            0  "
      ]
     },
     "execution_count": 6,
     "metadata": {},
     "output_type": "execute_result"
    }
   ],
   "source": [
    "pure_dataset.head(5)"
   ]
  },
  {
   "cell_type": "code",
   "execution_count": 51,
   "metadata": {},
   "outputs": [
    {
     "name": "stdout",
     "output_type": "stream",
     "text": [
      "CCHIT Certified 2011 Ambulatory EHR Criteria 20110517 - parsed.json_1\n"
     ]
    }
   ],
   "source": [
    "print(pure_dataset[\"id\"].iloc[0])"
   ]
  },
  {
   "cell_type": "code",
   "execution_count": null,
   "metadata": {},
   "outputs": [],
   "source": []
  },
  {
   "cell_type": "code",
   "execution_count": 29,
   "metadata": {},
   "outputs": [
    {
     "name": "stdout",
     "output_type": "stream",
     "text": [
      "The system shall associate (store and link) key identifier information (e.g.  system ID  medical record number) with each patient record.\n"
     ]
    }
   ],
   "source": [
    "print(pure_dataset[\"sentence\"].iloc[1])"
   ]
  },
  {
   "cell_type": "code",
   "execution_count": 47,
   "metadata": {},
   "outputs": [
    {
     "name": "stdout",
     "output_type": "stream",
     "text": [
      "41\n",
      "CCHIT Certified 2011 Ambulatory EHR Criteria 20110517\n",
      "CCHIT Certified 2011 Ambulatory EHR Criteria 20110517 \n",
      "CCHIT Certified 2011 Ambulatory EHR Criteria 20110517 -\n",
      "CMS DUA-R-0235\n",
      "CMS DUA-R-0235 \n",
      "CMS DUA-R-0235 -\n",
      "eCFR  45 CFR part 170 Complete  20130117\n",
      "eCFR  45 CFR part 170 Complete  20130117 \n",
      "eCFR  45 CFR part 170 Complete  20130117 -\n",
      "eCFR  45 CFR part 170 Complete  20130117 - \n",
      "EMR-RFP12-009-ITS-CombinedRequirements\n",
      "EMR-RFP12-009-ITS-CombinedRequirements \n",
      "EMR-RFP12-009-ITS-CombinedRequirements -\n",
      "EMR-RFP12-009-ITS-CombinedRequirements - \n",
      "HIPAA Combined Rule\n",
      "HIPAA Combined Rule \n",
      "HIPAA Combined Rule -\n",
      "HIPAA Combined Rule - \n",
      "iTrust_requirements\n",
      "iTrust_requirements \n",
      "iTrust_requirements -\n",
      "iTrust_requirements - \n",
      "LACountyEHR_Requirements\n",
      "LACountyEHR_Requirements \n",
      "LACountyEHR_Requirements -\n",
      "LACountyEHR_Requirements - \n",
      "Meaningful use 2010\n",
      "Meaningful use 2010 \n",
      "Meaningful use 2010 -\n",
      "Meaningful use 2010 - \n",
      "NC_DETECT_DUA\n",
      "NC_DETECT_DUA \n",
      "OpenEMR_4.1_Users_Guide\n",
      "OpenEMR_4.1_Users_Guide \n",
      "OpenEMR_4.1_Users_Guide -\n",
      "OpenEMR_4_1_1_Linux_Installation\n",
      "OpenEMR_4_1_1_Linux_Installation \n",
      "OpenEMR_4_1_1_Linux_Installation -\n",
      "promisedataALL\n",
      "promisedataALL \n",
      "promisedataALL -\n"
     ]
    }
   ],
   "source": [
    "reqs = list(pure_dataset[\"id\"].unique())\n",
    "docs = []\n",
    "for doc in reqs:\n",
    "    doc = doc[:-16]\n",
    "    if doc not in docs:\n",
    "        docs.append(doc)\n",
    "\n",
    "print(len(docs))\n",
    "for doc in docs:\n",
    "    print(doc)"
   ]
  },
  {
   "cell_type": "code",
   "execution_count": 50,
   "metadata": {},
   "outputs": [
    {
     "name": "stdout",
     "output_type": "stream",
     "text": [
      "41\n",
      "CCHIT Certified 2011 Ambulatory EHR Criteria 20110517\n",
      "CCHIT Certified 2011 Ambulatory EHR Criteria 20110517 \n",
      "CCHIT Certified 2011 Ambulatory EHR Criteria 20110517 -\n",
      "CMS DUA-R-0235\n",
      "CMS DUA-R-0235 \n",
      "CMS DUA-R-0235 -\n",
      "eCFR  45 CFR part 170 Complete  20130117\n",
      "eCFR  45 CFR part 170 Complete  20130117 \n",
      "eCFR  45 CFR part 170 Complete  20130117 -\n",
      "eCFR  45 CFR part 170 Complete  20130117 - \n",
      "EMR-RFP12-009-ITS-CombinedRequirements\n",
      "EMR-RFP12-009-ITS-CombinedRequirements \n",
      "EMR-RFP12-009-ITS-CombinedRequirements -\n",
      "EMR-RFP12-009-ITS-CombinedRequirements - \n",
      "HIPAA Combined Rule\n",
      "HIPAA Combined Rule \n",
      "HIPAA Combined Rule -\n",
      "HIPAA Combined Rule - \n",
      "iTrust_requirements\n",
      "iTrust_requirements \n",
      "iTrust_requirements -\n",
      "iTrust_requirements - \n",
      "LACountyEHR_Requirements\n",
      "LACountyEHR_Requirements \n",
      "LACountyEHR_Requirements -\n",
      "LACountyEHR_Requirements - \n",
      "Meaningful use 2010\n",
      "Meaningful use 2010 \n",
      "Meaningful use 2010 -\n",
      "Meaningful use 2010 - \n",
      "NC_DETECT_DUA\n",
      "NC_DETECT_DUA \n",
      "OpenEMR_4.1_Users_Guide\n",
      "OpenEMR_4.1_Users_Guide \n",
      "OpenEMR_4.1_Users_Guide -\n",
      "OpenEMR_4_1_1_Linux_Installation\n",
      "OpenEMR_4_1_1_Linux_Installation \n",
      "OpenEMR_4_1_1_Linux_Installation -\n",
      "promisedataALL\n",
      "promisedataALL \n",
      "promisedataALL -\n"
     ]
    }
   ],
   "source": [
    "pure_path = \"data\\\\Pure_Annotate_Dataset.csv\"\n",
    "pure_dataset = pd.read_csv(pure_path, sep=\",\", encoding=\"ISO-8859-1\")\n",
    "\n",
    "reqs = list(pure_dataset[\"id\"])\n",
    "docs = []\n",
    "for doc in reqs:\n",
    "    doc = doc[:-16]\n",
    "    if doc not in docs:\n",
    "        docs.append(doc)\n",
    "\n",
    "print(len(docs))\n",
    "for doc in docs:\n",
    "    print(doc)"
   ]
  },
  {
   "cell_type": "code",
   "execution_count": 42,
   "metadata": {},
   "outputs": [
    {
     "name": "stdout",
     "output_type": "stream",
     "text": [
      "CCHIT Certified 2011 Ambulatory EHR Criteria 20110517 - \n",
      "CCHIT Certified 2011 Ambulatory EHR Criteria 20110517 - p\n",
      "CCHIT Certified 2011 Ambulatory EHR Criteria 20110517 - pa\n",
      "CMS DUA-R-0235 - \n",
      "CMS DUA-R-0235 - p\n",
      "CMS DUA-R-0235 - pa\n",
      "eCFR  45 CFR part 170 Complete  20130117 - \n",
      "eCFR  45 CFR part 170 Complete  20130117 - p\n",
      "eCFR  45 CFR part 170 Complete  20130117 - pa\n",
      "eCFR  45 CFR part 170 Complete  20130117 - par\n",
      "EMR-RFP12-009-ITS-CombinedRequirements - \n",
      "EMR-RFP12-009-ITS-CombinedRequirements - p\n",
      "EMR-RFP12-009-ITS-CombinedRequirements - pa\n",
      "EMR-RFP12-009-ITS-CombinedRequirements - par\n",
      "HIPAA Combined Rule - \n",
      "HIPAA Combined Rule - p\n",
      "HIPAA Combined Rule - pa\n",
      "HIPAA Combined Rule - par\n",
      "iTrust_requirements - \n",
      "iTrust_requirements - p\n",
      "iTrust_requirements - pa\n",
      "iTrust_requirements - par\n",
      "LACountyEHR_Requirements - \n",
      "LACountyEHR_Requirements - p\n",
      "LACountyEHR_Requirements - pa\n",
      "LACountyEHR_Requirements - par\n",
      "Meaningful use 2010 - \n",
      "Meaningful use 2010 - p\n",
      "Meaningful use 2010 - pa\n",
      "Meaningful use 2010 - par\n",
      "NC_DETECT_DUA - \n",
      "NC_DETECT_DUA - p\n",
      "OpenEMR_4.1_Users_Guide - \n",
      "OpenEMR_4.1_Users_Guide - p\n",
      "OpenEMR_4.1_Users_Guide - pa\n",
      "OpenEMR_4_1_1_Linux_Installation - \n",
      "OpenEMR_4_1_1_Linux_Installation - p\n",
      "OpenEMR_4_1_1_Linux_Installation - pa\n",
      "promisedataALL - \n",
      "promisedataALL - p\n",
      "promisedataALL - pa\n"
     ]
    }
   ],
   "source": [
    "for doc in docs:\n",
    "    print(doc)"
   ]
  },
  {
   "cell_type": "code",
   "execution_count": null,
   "metadata": {},
   "outputs": [],
   "source": []
  }
 ],
 "metadata": {
  "kernelspec": {
   "display_name": "Python 3",
   "language": "python",
   "name": "python3"
  },
  "language_info": {
   "codemirror_mode": {
    "name": "ipython",
    "version": 3
   },
   "file_extension": ".py",
   "mimetype": "text/x-python",
   "name": "python",
   "nbconvert_exporter": "python",
   "pygments_lexer": "ipython3",
   "version": "3.12.3"
  }
 },
 "nbformat": 4,
 "nbformat_minor": 2
}
